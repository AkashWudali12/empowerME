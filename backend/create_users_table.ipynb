{
 "cells": [
  {
   "cell_type": "code",
   "execution_count": 8,
   "metadata": {},
   "outputs": [
    {
     "name": "stdout",
     "output_type": "stream",
     "text": [
      "FallColorsRPrett1\n"
     ]
    }
   ],
   "source": [
    "import psycopg2\n",
    "from dotenv import load_dotenv\n",
    "import os\n",
    "\n",
    "load_dotenv()\n",
    "\n",
    "password = os.getenv(\"POSTGRES_PASSWORD\")\n",
    "print(password)"
   ]
  },
  {
   "cell_type": "code",
   "execution_count": 9,
   "metadata": {},
   "outputs": [],
   "source": [
    "# Connect to your PostgreSQL database\n",
    "connection = psycopg2.connect(\n",
    "    host=\"localhost\",       # e.g., \"localhost\" or your database host\n",
    "    database=\"empowerMeDB\", # Replace with your database name\n",
    "    user=\"postgres\",   # Replace with your PostgreSQL username\n",
    "    password=password # Replace with your PostgreSQL password\n",
    ")\n",
    "\n",
    "# Create a cursor object\n",
    "cursor = connection.cursor()\n",
    "\n",
    "# SQL command to create the Users table\n",
    "create_table_query = '''\n",
    "CREATE TABLE Users (\n",
    "    id TEXT PRIMARY KEY,\n",
    "    connections TEXT[],\n",
    "    pending_connections TEXT[],\n",
    "    rejected_connections TEXT[],\n",
    "    requests TEXT[]\n",
    ");\n",
    "'''"
   ]
  },
  {
   "cell_type": "code",
   "execution_count": 10,
   "metadata": {},
   "outputs": [
    {
     "name": "stdout",
     "output_type": "stream",
     "text": [
      "Table 'Users' created successfully\n"
     ]
    }
   ],
   "source": [
    "try:\n",
    "    # Execute the SQL command\n",
    "    cursor.execute(create_table_query)\n",
    "    # Commit the transaction\n",
    "    connection.commit()\n",
    "    print(\"Table 'Users' created successfully\")\n",
    "except Exception as error:\n",
    "    print(f\"Error creating table: {error}\")\n",
    "    connection.rollback()  # Rollback in case of error\n",
    "finally:\n",
    "    # Close the cursor and connection\n",
    "    cursor.close()\n",
    "    connection.close()"
   ]
  },
  {
   "cell_type": "code",
   "execution_count": null,
   "metadata": {},
   "outputs": [],
   "source": []
  }
 ],
 "metadata": {
  "kernelspec": {
   "display_name": "venv",
   "language": "python",
   "name": "python3"
  },
  "language_info": {
   "codemirror_mode": {
    "name": "ipython",
    "version": 3
   },
   "file_extension": ".py",
   "mimetype": "text/x-python",
   "name": "python",
   "nbconvert_exporter": "python",
   "pygments_lexer": "ipython3",
   "version": "3.11.9"
  }
 },
 "nbformat": 4,
 "nbformat_minor": 2
}
