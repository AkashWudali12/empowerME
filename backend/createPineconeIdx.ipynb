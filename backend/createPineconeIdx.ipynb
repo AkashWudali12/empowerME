{
 "cells": [
  {
   "cell_type": "code",
   "execution_count": 1,
   "metadata": {},
   "outputs": [
    {
     "name": "stderr",
     "output_type": "stream",
     "text": [
      "/Users/akashwudali/Documents/MedHacks/venv/lib/python3.11/site-packages/pinecone/data/index.py:1: TqdmWarning: IProgress not found. Please update jupyter and ipywidgets. See https://ipywidgets.readthedocs.io/en/stable/user_install.html\n",
      "  from tqdm.autonotebook import tqdm\n"
     ]
    }
   ],
   "source": [
    "from pinecone import Pinecone, ServerlessSpec\n",
    "from dotenv import load_dotenv\n",
    "import os\n",
    "\n",
    "load_dotenv()\n",
    "\n",
    "api_key = os.getenv(\"PINECONE_API_KEY\")\n",
    "\n",
    "pc = Pinecone(api_key=api_key)"
   ]
  },
  {
   "cell_type": "code",
   "execution_count": 9,
   "metadata": {},
   "outputs": [
    {
     "name": "stdout",
     "output_type": "stream",
     "text": [
      "(1, 768)\n"
     ]
    }
   ],
   "source": [
    "# testing to check for dimension\n",
    "\n",
    "from sentence_transformers import SentenceTransformer\n",
    "sentences = [\"This is Danica Leannon They are a 70 year old female that lives in 1090 Jenkins Alley Florence South Carolina and speaks English.\\nThey have had the following conditions:\\nAcute viral pharyngitis (disorder) starting on 2014-01-06 02:54:38-05:00\\nAcute bronchitis (disorder) starting on 2013-06-17 03:54:38-04:00\\nPolyp of colon starting on 2009-07-17 03:54:38-04:00\\nHyperlipidemia starting on 2008-08-10 03:54:38-04:00\\nPrediabetes starting on 1987-08-16 03:54:38-04:00\\nAnemia (disorder) starting on 1987-08-16 03:54:38-04:00\\nChronic obstructive bronchitis (disorder) starting on 1985-09-29 03:54:38-04:00\\nMiscarriage in first trimester starting on 1984-10-28 02:54:38-05:00\\nHypertension starting on 1972-09-10 03:54:38-04:00.\\n\\nUndergone the following procedures:\\nDocumentation of current medications starting on 2010-08-22T03:54:38-04:00 ending on 2010-08-22T04:09:38-04:00 with a status of completed.\\nSpirometry (procedure) starting on 2010-08-22T03:54:38-04:00 ending on 2010-08-22T04:09:38-04:00 with a status of completed.\\nColonoscopy starting on 2010-11-09T02:54:38-05:00 ending on 2010-11-09T03:33:38-05:00 with a status of completed.\\nSpirometry (procedure) starting on 2011-08-28T03:54:38-04:00 ending on 2011-08-28T04:09:38-04:00 with a status of completed.\\nSpirometry (procedure) starting on 2012-09-02T03:54:38-04:00 ending on 2012-09-02T04:09:38-04:00 with a status of completed.\\nSpirometry (procedure) starting on 2013-07-07T03:54:38-04:00 ending on 2013-07-07T04:09:38-04:00 with a status of completed.\\nSpirometry (procedure) starting on 2013-09-08T03:54:38-04:00 ending on 2013-09-08T04:09:38-04:00 with a status of completed.\\nDocumentation of current medications starting on 2014-01-12T02:54:38-05:00 ending on 2014-01-12T03:09:38-05:00 with a status of completed.\\nSpirometry (procedure) starting on 2014-01-12T02:54:38-05:00 ending on 2014-01-12T03:09:38-05:00 with a status of completed.\\nSpirometry (procedure) starting on 2014-09-14T03:54:38-04:00 ending on 2014-09-14T04:09:38-04:00 with a status of completed.\\nDocumentation of current medications starting on 2015-09-20T03:54:38-04:00 ending on 2015-09-20T04:09:38-04:00 with a status of completed.\\nSpirometry (procedure) starting on 2015-09-20T03:54:38-04:00 ending on 2015-09-20T04:09:38-04:00 with a status of completed.\\nColonoscopy starting on 2015-11-08T02:54:38-05:00 ending on 2015-11-08T03:32:38-05:00 with a status of completed.\\nSpirometry (procedure) starting on 2016-09-25T03:54:38-04:00 ending on 2016-09-25T04:09:38-04:00 with a status of completed.\\nDocumentation of current medications starting on 2017-10-01T03:54:38-04:00 ending on 2017-10-01T04:09:38-04:00 with a status of completed.\\nSpirometry (procedure) starting on 2017-10-01T03:54:38-04:00 ending on 2017-10-01T04:09:38-04:00 with a status of completed.\\nDocumentation of current medications starting on 2018-10-07T03:54:38-04:00 ending on 2018-10-07T04:09:38-04:00 with a status of completed.\\nSpirometry (procedure) starting on 2018-10-07T03:54:38-04:00 ending on 2018-10-07T04:09:38-04:00 with a status of completed..\\n\\nHad the following medical practitioners:\\nDr. Raquel Fierro, Dr. Elvira Delagarza, Dr. Alva Robel, Dr. Berry Rempel.\\n\\nHave been in the following hospitals and/or had the following medical service providers:\\nDOCTORS CARE - SOUTH IRBY 2200 SOUTH IRBY STREET FLORENCE SC 29505\\nCAROLINAS HOSPITAL SYSTEM 805 PAMPLICO HWY BOX 100550 FLORENCE SC 29505\\nMCLEOD REGIONAL MEDICAL CENTER-PEE DEE 555 E CHEVES ST BOX 8700 FLORENCE SC 29506\\nCAROLINAS MEDICAL ALLIANCE INC 1594 FREEDOM BLVD FLORENCE SC 29505-6046.\\n\\nAnd have had the following visit history:\\nEncounter for symptom at MCLEOD REGIONAL MEDICAL CENTER-PEE DEE 555 E CHEVES ST BOX 8700 FLORENCE SC 29506 with Dr. Elvira Delagarza from 1956-07-24T03:54:38-04:00 to 1956-07-24T04:24:38-04:00.\\nGeneral examination of patient (procedure) at CAROLINAS MEDICAL ALLIANCE INC 1594 FREEDOM BLVD FLORENCE SC 29505-6046 with Dr. Raquel Fierro from 1972-09-10T03:54:38-04:00 to 1972-09-10T04:09:38-04:00.\\nPrenatal initial visit at MCLEOD REGIONAL MEDICAL CENTER-PEE DEE 555 E CHEVES ST BOX 8700 FLORENCE SC 29506 with Dr. Elvira Delagarza from 1984-10-28T02:54:38-05:00 to 1984-10-28T03:39:38-05:00.\\nGeneral examination of patient (procedure) at CAROLINAS MEDICAL ALLIANCE INC 1594 FREEDOM BLVD FLORENCE SC 29505-6046 with Dr. Raquel Fierro from 1985-09-29T03:54:38-04:00 to 1985-09-29T04:24:38-04:00.\\nEncounter for symptom at MCLEOD REGIONAL MEDICAL CENTER-PEE DEE 555 E CHEVES ST BOX 8700 FLORENCE SC 29506 with Dr. Elvira Delagarza from 1987-08-13T03:54:38-04:00 to 1987-08-13T04:09:38-04:00.\\nEncounter for problem at MCLEOD REGIONAL MEDICAL CENTER-PEE DEE 555 E CHEVES ST BOX 8700 FLORENCE SC 29506 with Dr. Elvira Delagarza from 1987-08-16T03:54:38-04:00 to 1987-08-16T05:23:38-04:00.\\nEncounter for check up (procedure) at CAROLINAS HOSPITAL SYSTEM 805 PAMPLICO HWY BOX 100550 FLORENCE SC 29505 with Dr. Alva Robel from 2000-04-09T03:54:38-04:00 to 2013-07-07T03:54:38-04:00.\\nGeneral examination of patient (procedure) at CAROLINAS MEDICAL ALLIANCE INC 1594 FREEDOM BLVD FLORENCE SC 29505-6046 with Dr. Raquel Fierro from 2008-08-10T03:54:38-04:00 to 2008-08-10T04:39:38-04:00.\\nFollow-up encounter at MCLEOD REGIONAL MEDICAL CENTER-PEE DEE 555 E CHEVES ST BOX 8700 FLORENCE SC 29506 with Dr. Elvira Delagarza from 2008-08-31T03:54:38-04:00 to 2008-08-31T04:09:38-04:00.\\nEncounter for 'check-up' at MCLEOD REGIONAL MEDICAL CENTER-PEE DEE 555 E CHEVES ST BOX 8700 FLORENCE SC 29506 with Dr. Elvira Delagarza from 2009-07-17T03:54:38-04:00 to 2009-07-17T05:23:38-04:00.\\nFollow-up encounter at MCLEOD REGIONAL MEDICAL CENTER-PEE DEE 555 E CHEVES ST BOX 8700 FLORENCE SC 29506 with Dr. Elvira Delagarza from 2009-08-31T03:54:38-04:00 to 2009-08-31T04:09:38-04:00.\\nAsthma follow-up at MCLEOD REGIONAL MEDICAL CENTER-PEE DEE 555 E CHEVES ST BOX 8700 FLORENCE SC 29506 with Dr. Elvira Delagarza from 2010-03-27T03:54:38-04:00 to 2010-03-27T04:09:38-04:00.\\nGeneral examination of patient (procedure) at CAROLINAS MEDICAL ALLIANCE INC 1594 FREEDOM BLVD FLORENCE SC 29505-6046 with Dr. Raquel Fierro from 2010-08-22T03:54:38-04:00 to 2010-08-22T04:39:38-04:00.\\nFollow-up encounter at MCLEOD REGIONAL MEDICAL CENTER-PEE DEE 555 E CHEVES ST BOX 8700 FLORENCE SC 29506 with Dr. Elvira Delagarza from 2010-08-31T03:54:38-04:00 to 2010-08-31T04:09:38-04:00.\\nAsthma follow-up at MCLEOD REGIONAL MEDICAL CENTER-PEE DEE 555 E CHEVES ST BOX 8700 FLORENCE SC 29506 with Dr. Elvira Delagarza from 2010-09-23T03:54:38-04:00 to 2010-09-23T04:09:38-04:00.\\nEncounter for 'check-up' at MCLEOD REGIONAL MEDICAL CENTER-PEE DEE 555 E CHEVES ST BOX 8700 FLORENCE SC 29506 with Dr. Elvira Delagarza from 2010-11-09T02:54:38-05:00 to 2010-11-09T03:48:38-05:00.\\nGeneral examination of patient (procedure) at CAROLINAS MEDICAL ALLIANCE INC 1594 FREEDOM BLVD FLORENCE SC 29505-6046 with Dr. Raquel Fierro from 2011-08-28T03:54:38-04:00 to 2011-08-28T04:24:38-04:00.\\nFollow-up encounter at MCLEOD REGIONAL MEDICAL CENTER-PEE DEE 555 E CHEVES ST BOX 8700 FLORENCE SC 29506 with Dr. Elvira Delagarza from 2011-08-31T03:54:38-04:00 to 2011-08-31T04:09:38-04:00.\\nAsthma follow-up at MCLEOD REGIONAL MEDICAL CENTER-PEE DEE 555 E CHEVES ST BOX 8700 FLORENCE SC 29506 with Dr. Elvira Delagarza from 2012-03-16T03:54:38-04:00 to 2012-03-16T04:09:38-04:00.\\nGeneral examination of patient (procedure) at CAROLINAS MEDICAL ALLIANCE INC 1594 FREEDOM BLVD FLORENCE SC 29505-6046 with Dr. Raquel Fierro from 2012-09-02T03:54:38-04:00 to 2012-09-02T04:09:38-04:00.\\nFollow-up encounter at MCLEOD REGIONAL MEDICAL CENTER-PEE DEE 555 E CHEVES ST BOX 8700 FLORENCE SC 29506 with Dr. Elvira Delagarza from 2012-08-30T03:54:38-04:00 to 2012-08-30T04:09:38-04:00.\\nAsthma follow-up at MCLEOD REGIONAL MEDICAL CENTER-PEE DEE 555 E CHEVES ST BOX 8700 FLORENCE SC 29506 with Dr. Elvira Delagarza from 2012-09-12T03:54:38-04:00 to 2012-09-12T04:09:38-04:00.\\nEmergency hospital admission for asthma at MCLEOD REGIONAL MEDICAL CENTER-PEE DEE 555 E CHEVES ST BOX 8700 FLORENCE SC 29506 with Dr. Elvira Delagarza from 2013-03-11T03:54:38-04:00 to 2013-03-11T04:54:38-04:00.\\nAsthma follow-up at MCLEOD REGIONAL MEDICAL CENTER-PEE DEE 555 E CHEVES ST BOX 8700 FLORENCE SC 29506 with Dr. Elvira Delagarza from 2013-03-13T03:54:38-04:00 to 2013-03-13T04:09:38-04:00.\\nUrgent care clinic (procedure) at DOCTORS CARE - SOUTH IRBY 2200 SOUTH IRBY STREET FLORENCE SC 29505 with Dr. Berry Rempel from 2013-06-23T03:54:38-04:00 to 2013-06-23T04:09:38-04:00.\\nEncounter for symptom at MCLEOD REGIONAL MEDICAL CENTER-PEE DEE 555 E CHEVES ST BOX 8700 FLORENCE SC 29506 with Dr. Elvira Delagarza from 2013-06-17T03:54:38-04:00 to 2013-06-17T04:09:38-04:00.\\nUrgent care clinic (procedure) at DOCTORS CARE - SOUTH IRBY 2200 SOUTH IRBY STREET FLORENCE SC 29505 with Dr. Berry Rempel from 2013-06-30T03:54:38-04:00 to 2013-06-30T04:09:38-04:00.\\nEncounter for check up (procedure) at CAROLINAS HOSPITAL SYSTEM 805 PAMPLICO HWY BOX 100550 FLORENCE SC 29505 with Dr. Alva Robel from 2013-07-07T03:54:38-04:00 to 2013-07-07T04:24:38-04:00.\\nFollow-up encounter at MCLEOD REGIONAL MEDICAL CENTER-PEE DEE 555 E CHEVES ST BOX 8700 FLORENCE SC 29506 with Dr. Elvira Delagarza from 2013-08-30T03:54:38-04:00 to 2013-08-30T04:09:38-04:00.\\nGeneral examination of patient (procedure) at CAROLINAS MEDICAL ALLIANCE INC 1594 FREEDOM BLVD FLORENCE SC 29505-6046 with Dr. Raquel Fierro from 2013-09-08T03:54:38-04:00 to 2013-09-08T04:24:38-04:00.\\nEncounter for check up (procedure) at CAROLINAS HOSPITAL SYSTEM 805 PAMPLICO HWY BOX 100550 FLORENCE SC 29505 with Dr. Alva Robel from 2014-01-12T02:54:38-05:00 to 2014-01-12T03:24:38-05:00.\\nEncounter for symptom at MCLEOD REGIONAL MEDICAL CENTER-PEE DEE 555 E CHEVES ST BOX 8700 FLORENCE SC 29506 with Dr. Elvira Delagarza from 2014-01-06T02:54:38-05:00 to 2014-01-06T03:09:38-05:00.\\nFollow-up encounter at MCLEOD REGIONAL MEDICAL CENTER-PEE DEE 555 E CHEVES ST BOX 8700 FLORENCE SC 29506 with Dr. Elvira Delagarza from 2014-08-30T03:54:38-04:00 to 2014-08-30T04:09:38-04:00.\\nGeneral examination of patient (procedure) at CAROLINAS MEDICAL ALLIANCE INC 1594 FREEDOM BLVD FLORENCE SC 29505-6046 with Dr. Raquel Fierro from 2014-09-14T03:54:38-04:00 to 2014-09-14T04:24:38-04:00.\\nAsthma follow-up at MCLEOD REGIONAL MEDICAL CENTER-PEE DEE 555 E CHEVES ST BOX 8700 FLORENCE SC 29506 with Dr. Elvira Delagarza from 2015-08-30T03:54:38-04:00 to 2015-08-30T04:09:38-04:00.\\nFollow-up encounter at MCLEOD REGIONAL MEDICAL CENTER-PEE DEE 555 E CHEVES ST BOX 8700 FLORENCE SC 29506 with Dr. Elvira Delagarza from 2015-08-30T03:54:38-04:00 to 2015-08-30T04:09:38-04:00.\\nGeneral examination of patient (procedure) at CAROLINAS MEDICAL ALLIANCE INC 1594 FREEDOM BLVD FLORENCE SC 29505-6046 with Dr. Raquel Fierro from 2015-09-20T03:54:38-04:00 to 2015-09-20T04:39:38-04:00.\\nEncounter for 'check-up' at MCLEOD REGIONAL MEDICAL CENTER-PEE DEE 555 E CHEVES ST BOX 8700 FLORENCE SC 29506 with Dr. Elvira Delagarza from 2015-11-08T02:54:38-05:00 to 2015-11-08T03:47:38-05:00.\\nFollow-up encounter at MCLEOD REGIONAL MEDICAL CENTER-PEE DEE 555 E CHEVES ST BOX 8700 FLORENCE SC 29506 with Dr. Elvira Delagarza from 2016-08-29T03:54:38-04:00 to 2016-08-29T04:09:38-04:00.\\nGeneral examination of patient (procedure) at CAROLINAS MEDICAL ALLIANCE INC 1594 FREEDOM BLVD FLORENCE SC 29505-6046 with Dr. Raquel Fierro from 2016-09-25T03:54:38-04:00 to 2016-09-25T04:24:38-04:00.\\nAsthma follow-up at MCLEOD REGIONAL MEDICAL CENTER-PEE DEE 555 E CHEVES ST BOX 8700 FLORENCE SC 29506 with Dr. Elvira Delagarza from 2017-02-20T02:54:38-05:00 to 2017-02-20T03:09:38-05:00.\\nFollow-up encounter at MCLEOD REGIONAL MEDICAL CENTER-PEE DEE 555 E CHEVES ST BOX 8700 FLORENCE SC 29506 with Dr. Elvira Delagarza from 2017-08-29T03:54:38-04:00 to 2017-08-29T04:09:38-04:00.\\nGeneral examination of patient (procedure) at CAROLINAS MEDICAL ALLIANCE INC 1594 FREEDOM BLVD FLORENCE SC 29505-6046 with Dr. Raquel Fierro from 2017-10-01T03:54:38-04:00 to 2017-10-01T04:39:38-04:00.\\nAsthma follow-up at MCLEOD REGIONAL MEDICAL CENTER-PEE DEE 555 E CHEVES ST BOX 8700 FLORENCE SC 29506 with Dr. Elvira Delagarza from 2018-02-15T02:54:38-05:00 to 2018-02-15T03:09:38-05:00.\\nFollow-up encounter at MCLEOD REGIONAL MEDICAL CENTER-PEE DEE 555 E CHEVES ST BOX 8700 FLORENCE SC 29506 with Dr. Elvira Delagarza from 2018-08-29T03:54:38-04:00 to 2018-08-29T04:09:38-04:00.\\nGeneral examination of patient (procedure) at CAROLINAS MEDICAL ALLIANCE INC 1594 FREEDOM BLVD FLORENCE SC 29505-6046 with Dr. Raquel Fierro from 2018-10-07T03:54:38-04:00 to 2018-10-07T04:39:38-04:00.\\nAsthma follow-up at MCLEOD REGIONAL MEDICAL CENTER-PEE DEE 555 E CHEVES ST BOX 8700 FLORENCE SC 29506 with Dr. Elvira Delagarza from 2019-08-09T03:54:38-04:00 to 2019-08-09T04:09:38-04:00.\\nFollow-up encounter at MCLEOD REGIONAL MEDICAL CENTER-PEE DEE 555 E CHEVES ST BOX 8700 FLORENCE SC 29506 with Dr. Elvira Delagarza from 2019-08-29T03:54:38-04:00 to 2019-08-29T04:09:38-04:00.\",]\n",
    "\n",
    "model = SentenceTransformer('sentence-transformers/all-mpnet-base-v2')\n",
    "embeddings = model.encode(sentences)\n",
    "print(embeddings.shape)\n"
   ]
  },
  {
   "cell_type": "code",
   "execution_count": 11,
   "metadata": {},
   "outputs": [],
   "source": [
    "pc.create_index(\n",
    "    name=\"empower-me\",\n",
    "    dimension=768, # Replace with your model dimensions\n",
    "    metric=\"cosine\", # Replace with your model metric\n",
    "    spec=ServerlessSpec(\n",
    "        cloud=\"aws\",\n",
    "        region=\"us-east-1\"\n",
    "    ) \n",
    ")"
   ]
  },
  {
   "cell_type": "code",
   "execution_count": 12,
   "metadata": {},
   "outputs": [],
   "source": [
    "index = pc.Index(\"empower-me\")"
   ]
  }
 ],
 "metadata": {
  "kernelspec": {
   "display_name": "venv",
   "language": "python",
   "name": "python3"
  },
  "language_info": {
   "codemirror_mode": {
    "name": "ipython",
    "version": 3
   },
   "file_extension": ".py",
   "mimetype": "text/x-python",
   "name": "python",
   "nbconvert_exporter": "python",
   "pygments_lexer": "ipython3",
   "version": "3.11.9"
  }
 },
 "nbformat": 4,
 "nbformat_minor": 2
}
